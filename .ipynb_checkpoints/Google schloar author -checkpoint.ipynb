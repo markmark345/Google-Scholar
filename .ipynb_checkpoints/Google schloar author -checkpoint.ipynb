{
 "cells": [
  {
   "cell_type": "code",
   "execution_count": 21,
   "id": "ahead-silence",
   "metadata": {},
   "outputs": [],
   "source": [
    "import pandas as pd\n",
    "from selenium import webdriver\n",
    "driver = webdriver.Chrome('C:\\\\Users\\\\mark\\\\Desktop\\\\dsi200\\\\chromedriver.exe')"
   ]
  },
  {
   "cell_type": "code",
   "execution_count": 22,
   "id": "whole-restoration",
   "metadata": {},
   "outputs": [],
   "source": [
    "driver.get('https://scholar.google.com/')"
   ]
  },
  {
   "cell_type": "code",
   "execution_count": 23,
   "id": "placed-services",
   "metadata": {},
   "outputs": [],
   "source": [
    "#frist page\n",
    "search_box = driver.find_element_by_css_selector('#gs_hdr_tsi')\n",
    "search_box.send_keys(\"Thammasat University\\n\")"
   ]
  },
  {
   "cell_type": "code",
   "execution_count": 24,
   "id": "american-surge",
   "metadata": {},
   "outputs": [],
   "source": [
    "#list page\n",
    "tu = driver.find_element_by_css_selector(\"#gs_res_ccl_mid > div:nth-child(2) > div > a\")\n",
    "tu.click()"
   ]
  },
  {
   "cell_type": "code",
   "execution_count": 25,
   "id": "quiet-saying",
   "metadata": {},
   "outputs": [],
   "source": [
    "#user list page\n",
    "author = driver.find_element_by_css_selector(\"#gsc_sa_ccl > div:nth-child(3) > div > div > h3 > a\")"
   ]
  },
  {
   "cell_type": "code",
   "execution_count": 26,
   "id": "dramatic-reason",
   "metadata": {},
   "outputs": [
    {
     "data": {
      "text/plain": [
       "'sandhya Babel'"
      ]
     },
     "execution_count": 26,
     "metadata": {},
     "output_type": "execute_result"
    }
   ],
   "source": [
    "author.text"
   ]
  },
  {
   "cell_type": "code",
   "execution_count": 27,
   "id": "north-spain",
   "metadata": {},
   "outputs": [
    {
     "data": {
      "text/plain": [
       "'Re819VUAAAAJ'"
      ]
     },
     "execution_count": 27,
     "metadata": {},
     "output_type": "execute_result"
    }
   ],
   "source": [
    "author.get_attribute('href').split('=')[-1]"
   ]
  },
  {
   "cell_type": "code",
   "execution_count": 28,
   "id": "plastic-ending",
   "metadata": {},
   "outputs": [],
   "source": [
    "from selenium.webdriver.common.by import By\n",
    "#for i in driver.find_elements(By.CSS_SELECTOR, \"div.gs_ai_t\"):\n",
    "#        a = i.find_element_by_css_selector('a')\n",
    " #       author = a.text\n",
    "#        user_id = a.get_attribute('href').split('=')[-1]\n",
    " #       affliation = i.find_element_by_css_selector('div.gs_ai_aff').text\n",
    "        #print(user_id, author, affliation)"
   ]
  },
  {
   "cell_type": "code",
   "execution_count": 29,
   "id": "common-hotel",
   "metadata": {},
   "outputs": [
    {
     "data": {
      "text/html": [
       "<div>\n",
       "<style scoped>\n",
       "    .dataframe tbody tr th:only-of-type {\n",
       "        vertical-align: middle;\n",
       "    }\n",
       "\n",
       "    .dataframe tbody tr th {\n",
       "        vertical-align: top;\n",
       "    }\n",
       "\n",
       "    .dataframe thead th {\n",
       "        text-align: right;\n",
       "    }\n",
       "</style>\n",
       "<table border=\"1\" class=\"dataframe\">\n",
       "  <thead>\n",
       "    <tr style=\"text-align: right;\">\n",
       "      <th></th>\n",
       "      <th>user_id</th>\n",
       "      <th>author</th>\n",
       "      <th>affiliation</th>\n",
       "      <th>affliation</th>\n",
       "    </tr>\n",
       "  </thead>\n",
       "  <tbody>\n",
       "    <tr>\n",
       "      <th>0</th>\n",
       "      <td>N5APA98AAAAJ</td>\n",
       "      <td>Wasit Limpraser</td>\n",
       "      <td>Thammasart University</td>\n",
       "      <td>NaN</td>\n",
       "    </tr>\n",
       "    <tr>\n",
       "      <th>1</th>\n",
       "      <td>Re819VUAAAAJ</td>\n",
       "      <td>sandhya Babel</td>\n",
       "      <td>NaN</td>\n",
       "      <td>Professor, Sirindhorn International Institute ...</td>\n",
       "    </tr>\n",
       "    <tr>\n",
       "      <th>2</th>\n",
       "      <td>97Zz_TIAAAAJ</td>\n",
       "      <td>Sombat Muengtaweepongsa</td>\n",
       "      <td>NaN</td>\n",
       "      <td>Thammasat University</td>\n",
       "    </tr>\n",
       "    <tr>\n",
       "      <th>3</th>\n",
       "      <td>u-vl_aIAAAAJ</td>\n",
       "      <td>Wutiphol Sintunavarat</td>\n",
       "      <td>NaN</td>\n",
       "      <td>Department of Mathematics and Statistics, Facu...</td>\n",
       "    </tr>\n",
       "    <tr>\n",
       "      <th>4</th>\n",
       "      <td>9bUei6wAAAAJ</td>\n",
       "      <td>Bunyarit Uyyanonvara</td>\n",
       "      <td>NaN</td>\n",
       "      <td>Associated Professor, SIIT, Thammasat University</td>\n",
       "    </tr>\n",
       "    <tr>\n",
       "      <th>...</th>\n",
       "      <td>...</td>\n",
       "      <td>...</td>\n",
       "      <td>...</td>\n",
       "      <td>...</td>\n",
       "    </tr>\n",
       "    <tr>\n",
       "      <th>294</th>\n",
       "      <td>NLshr9gAAAAJ</td>\n",
       "      <td>Ines Ayu Handayani</td>\n",
       "      <td>NaN</td>\n",
       "      <td>Master's Student, SIIT, Thammasat University</td>\n",
       "    </tr>\n",
       "    <tr>\n",
       "      <th>295</th>\n",
       "      <td>oALsv34AAAAJ</td>\n",
       "      <td>Kritsasith Warin</td>\n",
       "      <td>NaN</td>\n",
       "      <td>Lecturer, Faculty of Dentistry, Thammasat Univ...</td>\n",
       "    </tr>\n",
       "    <tr>\n",
       "      <th>296</th>\n",
       "      <td>kJaNuNMAAAAJ</td>\n",
       "      <td>Dulyaphab Chaturongkul</td>\n",
       "      <td>NaN</td>\n",
       "      <td>Lecturer in Political Science, Thammasat Unive...</td>\n",
       "    </tr>\n",
       "    <tr>\n",
       "      <th>297</th>\n",
       "      <td>7XmRxVUAAAAJ</td>\n",
       "      <td>Punnavich Khowrurk</td>\n",
       "      <td>NaN</td>\n",
       "      <td>Department of Computer Science,Thammasat Unive...</td>\n",
       "    </tr>\n",
       "    <tr>\n",
       "      <th>298</th>\n",
       "      <td>vvP6YwkAAAAJ</td>\n",
       "      <td>Adipon Euajarusphan</td>\n",
       "      <td>NaN</td>\n",
       "      <td>Lecturer , Thammasat University</td>\n",
       "    </tr>\n",
       "  </tbody>\n",
       "</table>\n",
       "<p>299 rows × 4 columns</p>\n",
       "</div>"
      ],
      "text/plain": [
       "          user_id                   author            affiliation  \\\n",
       "0    N5APA98AAAAJ          Wasit Limpraser  Thammasart University   \n",
       "1    Re819VUAAAAJ            sandhya Babel                    NaN   \n",
       "2    97Zz_TIAAAAJ  Sombat Muengtaweepongsa                    NaN   \n",
       "3    u-vl_aIAAAAJ    Wutiphol Sintunavarat                    NaN   \n",
       "4    9bUei6wAAAAJ     Bunyarit Uyyanonvara                    NaN   \n",
       "..            ...                      ...                    ...   \n",
       "294  NLshr9gAAAAJ       Ines Ayu Handayani                    NaN   \n",
       "295  oALsv34AAAAJ         Kritsasith Warin                    NaN   \n",
       "296  kJaNuNMAAAAJ   Dulyaphab Chaturongkul                    NaN   \n",
       "297  7XmRxVUAAAAJ       Punnavich Khowrurk                    NaN   \n",
       "298  vvP6YwkAAAAJ      Adipon Euajarusphan                    NaN   \n",
       "\n",
       "                                            affliation  \n",
       "0                                                  NaN  \n",
       "1    Professor, Sirindhorn International Institute ...  \n",
       "2                                 Thammasat University  \n",
       "3    Department of Mathematics and Statistics, Facu...  \n",
       "4     Associated Professor, SIIT, Thammasat University  \n",
       "..                                                 ...  \n",
       "294       Master's Student, SIIT, Thammasat University  \n",
       "295  Lecturer, Faculty of Dentistry, Thammasat Univ...  \n",
       "296  Lecturer in Political Science, Thammasat Unive...  \n",
       "297  Department of Computer Science,Thammasat Unive...  \n",
       "298                    Lecturer , Thammasat University  \n",
       "\n",
       "[299 rows x 4 columns]"
      ]
     },
     "execution_count": 29,
     "metadata": {},
     "output_type": "execute_result"
    }
   ],
   "source": [
    "df = pd.DataFrame(\n",
    "    {\n",
    "        'user_id':['N5APA98AAAAJ'],\n",
    "        'author':['Wasit Limpraser'],\n",
    "        'affliation':['Thammasart University']\n",
    "    }\n",
    ")\n",
    "df2 = pd.DataFrame()\n",
    "for i in range(30):\n",
    "    for i in driver.find_elements(By.CSS_SELECTOR, \"div.gs_ai_t\"):\n",
    "        a = i.find_element_by_css_selector('a')\n",
    "        author = a.text\n",
    "        user_id = a.get_attribute('href').split('=')[-1]\n",
    "        affliation = i.find_element_by_css_selector('div.gs_ai_aff').text\n",
    "        #print(user_id, author, affliation)\n",
    "        df = df.append(\n",
    "            {\n",
    "                'user_id':user_id,\n",
    "                'author':author,\n",
    "                'affliation':affliation\n",
    "            }, ignore_index=True\n",
    "        )\n",
    "    next_page = driver.find_element_by_css_selector('#gsc_authors_bottom_pag > div > button.gs_btnPR.gs_in_ib.gs_btn_half.gs_btn_lsb.gs_btn_srt.gsc_pgn_pnx')\n",
    "    next_page.click()\n",
    "df"
   ]
  },
  {
   "cell_type": "code",
   "execution_count": 34,
   "id": "overhead-olive",
   "metadata": {},
   "outputs": [
    {
     "ename": "KeyError",
     "evalue": "\"['affiliation'] not found in axis\"",
     "output_type": "error",
     "traceback": [
      "\u001b[1;31m---------------------------------------------------------------------------\u001b[0m",
      "\u001b[1;31mKeyError\u001b[0m                                  Traceback (most recent call last)",
      "\u001b[1;32m<ipython-input-34-98a6af8313e2>\u001b[0m in \u001b[0;36m<module>\u001b[1;34m\u001b[0m\n\u001b[1;32m----> 1\u001b[1;33m \u001b[0mdf\u001b[0m\u001b[1;33m.\u001b[0m\u001b[0mdrop\u001b[0m\u001b[1;33m(\u001b[0m\u001b[1;33m[\u001b[0m\u001b[1;34m'affiliation'\u001b[0m\u001b[1;33m]\u001b[0m\u001b[1;33m,\u001b[0m \u001b[0maxis\u001b[0m\u001b[1;33m=\u001b[0m\u001b[1;36m0\u001b[0m\u001b[1;33m,\u001b[0m \u001b[0minplace\u001b[0m\u001b[1;33m=\u001b[0m\u001b[1;32mTrue\u001b[0m\u001b[1;33m)\u001b[0m\u001b[1;33m\u001b[0m\u001b[1;33m\u001b[0m\u001b[0m\n\u001b[0m",
      "\u001b[1;32mc:\\users\\mark\\appdata\\local\\programs\\python\\python36\\lib\\site-packages\\pandas\\core\\frame.py\u001b[0m in \u001b[0;36mdrop\u001b[1;34m(self, labels, axis, index, columns, level, inplace, errors)\u001b[0m\n\u001b[0;32m   4172\u001b[0m             \u001b[0mlevel\u001b[0m\u001b[1;33m=\u001b[0m\u001b[0mlevel\u001b[0m\u001b[1;33m,\u001b[0m\u001b[1;33m\u001b[0m\u001b[1;33m\u001b[0m\u001b[0m\n\u001b[0;32m   4173\u001b[0m             \u001b[0minplace\u001b[0m\u001b[1;33m=\u001b[0m\u001b[0minplace\u001b[0m\u001b[1;33m,\u001b[0m\u001b[1;33m\u001b[0m\u001b[1;33m\u001b[0m\u001b[0m\n\u001b[1;32m-> 4174\u001b[1;33m             \u001b[0merrors\u001b[0m\u001b[1;33m=\u001b[0m\u001b[0merrors\u001b[0m\u001b[1;33m,\u001b[0m\u001b[1;33m\u001b[0m\u001b[1;33m\u001b[0m\u001b[0m\n\u001b[0m\u001b[0;32m   4175\u001b[0m         )\n\u001b[0;32m   4176\u001b[0m \u001b[1;33m\u001b[0m\u001b[0m\n",
      "\u001b[1;32mc:\\users\\mark\\appdata\\local\\programs\\python\\python36\\lib\\site-packages\\pandas\\core\\generic.py\u001b[0m in \u001b[0;36mdrop\u001b[1;34m(self, labels, axis, index, columns, level, inplace, errors)\u001b[0m\n\u001b[0;32m   3887\u001b[0m         \u001b[1;32mfor\u001b[0m \u001b[0maxis\u001b[0m\u001b[1;33m,\u001b[0m \u001b[0mlabels\u001b[0m \u001b[1;32min\u001b[0m \u001b[0maxes\u001b[0m\u001b[1;33m.\u001b[0m\u001b[0mitems\u001b[0m\u001b[1;33m(\u001b[0m\u001b[1;33m)\u001b[0m\u001b[1;33m:\u001b[0m\u001b[1;33m\u001b[0m\u001b[1;33m\u001b[0m\u001b[0m\n\u001b[0;32m   3888\u001b[0m             \u001b[1;32mif\u001b[0m \u001b[0mlabels\u001b[0m \u001b[1;32mis\u001b[0m \u001b[1;32mnot\u001b[0m \u001b[1;32mNone\u001b[0m\u001b[1;33m:\u001b[0m\u001b[1;33m\u001b[0m\u001b[1;33m\u001b[0m\u001b[0m\n\u001b[1;32m-> 3889\u001b[1;33m                 \u001b[0mobj\u001b[0m \u001b[1;33m=\u001b[0m \u001b[0mobj\u001b[0m\u001b[1;33m.\u001b[0m\u001b[0m_drop_axis\u001b[0m\u001b[1;33m(\u001b[0m\u001b[0mlabels\u001b[0m\u001b[1;33m,\u001b[0m \u001b[0maxis\u001b[0m\u001b[1;33m,\u001b[0m \u001b[0mlevel\u001b[0m\u001b[1;33m=\u001b[0m\u001b[0mlevel\u001b[0m\u001b[1;33m,\u001b[0m \u001b[0merrors\u001b[0m\u001b[1;33m=\u001b[0m\u001b[0merrors\u001b[0m\u001b[1;33m)\u001b[0m\u001b[1;33m\u001b[0m\u001b[1;33m\u001b[0m\u001b[0m\n\u001b[0m\u001b[0;32m   3890\u001b[0m \u001b[1;33m\u001b[0m\u001b[0m\n\u001b[0;32m   3891\u001b[0m         \u001b[1;32mif\u001b[0m \u001b[0minplace\u001b[0m\u001b[1;33m:\u001b[0m\u001b[1;33m\u001b[0m\u001b[1;33m\u001b[0m\u001b[0m\n",
      "\u001b[1;32mc:\\users\\mark\\appdata\\local\\programs\\python\\python36\\lib\\site-packages\\pandas\\core\\generic.py\u001b[0m in \u001b[0;36m_drop_axis\u001b[1;34m(self, labels, axis, level, errors)\u001b[0m\n\u001b[0;32m   3921\u001b[0m                 \u001b[0mnew_axis\u001b[0m \u001b[1;33m=\u001b[0m \u001b[0maxis\u001b[0m\u001b[1;33m.\u001b[0m\u001b[0mdrop\u001b[0m\u001b[1;33m(\u001b[0m\u001b[0mlabels\u001b[0m\u001b[1;33m,\u001b[0m \u001b[0mlevel\u001b[0m\u001b[1;33m=\u001b[0m\u001b[0mlevel\u001b[0m\u001b[1;33m,\u001b[0m \u001b[0merrors\u001b[0m\u001b[1;33m=\u001b[0m\u001b[0merrors\u001b[0m\u001b[1;33m)\u001b[0m\u001b[1;33m\u001b[0m\u001b[1;33m\u001b[0m\u001b[0m\n\u001b[0;32m   3922\u001b[0m             \u001b[1;32melse\u001b[0m\u001b[1;33m:\u001b[0m\u001b[1;33m\u001b[0m\u001b[1;33m\u001b[0m\u001b[0m\n\u001b[1;32m-> 3923\u001b[1;33m                 \u001b[0mnew_axis\u001b[0m \u001b[1;33m=\u001b[0m \u001b[0maxis\u001b[0m\u001b[1;33m.\u001b[0m\u001b[0mdrop\u001b[0m\u001b[1;33m(\u001b[0m\u001b[0mlabels\u001b[0m\u001b[1;33m,\u001b[0m \u001b[0merrors\u001b[0m\u001b[1;33m=\u001b[0m\u001b[0merrors\u001b[0m\u001b[1;33m)\u001b[0m\u001b[1;33m\u001b[0m\u001b[1;33m\u001b[0m\u001b[0m\n\u001b[0m\u001b[0;32m   3924\u001b[0m             \u001b[0mresult\u001b[0m \u001b[1;33m=\u001b[0m \u001b[0mself\u001b[0m\u001b[1;33m.\u001b[0m\u001b[0mreindex\u001b[0m\u001b[1;33m(\u001b[0m\u001b[1;33m**\u001b[0m\u001b[1;33m{\u001b[0m\u001b[0maxis_name\u001b[0m\u001b[1;33m:\u001b[0m \u001b[0mnew_axis\u001b[0m\u001b[1;33m}\u001b[0m\u001b[1;33m)\u001b[0m\u001b[1;33m\u001b[0m\u001b[1;33m\u001b[0m\u001b[0m\n\u001b[0;32m   3925\u001b[0m \u001b[1;33m\u001b[0m\u001b[0m\n",
      "\u001b[1;32mc:\\users\\mark\\appdata\\local\\programs\\python\\python36\\lib\\site-packages\\pandas\\core\\indexes\\base.py\u001b[0m in \u001b[0;36mdrop\u001b[1;34m(self, labels, errors)\u001b[0m\n\u001b[0;32m   5285\u001b[0m         \u001b[1;32mif\u001b[0m \u001b[0mmask\u001b[0m\u001b[1;33m.\u001b[0m\u001b[0many\u001b[0m\u001b[1;33m(\u001b[0m\u001b[1;33m)\u001b[0m\u001b[1;33m:\u001b[0m\u001b[1;33m\u001b[0m\u001b[1;33m\u001b[0m\u001b[0m\n\u001b[0;32m   5286\u001b[0m             \u001b[1;32mif\u001b[0m \u001b[0merrors\u001b[0m \u001b[1;33m!=\u001b[0m \u001b[1;34m\"ignore\"\u001b[0m\u001b[1;33m:\u001b[0m\u001b[1;33m\u001b[0m\u001b[1;33m\u001b[0m\u001b[0m\n\u001b[1;32m-> 5287\u001b[1;33m                 \u001b[1;32mraise\u001b[0m \u001b[0mKeyError\u001b[0m\u001b[1;33m(\u001b[0m\u001b[1;34mf\"{labels[mask]} not found in axis\"\u001b[0m\u001b[1;33m)\u001b[0m\u001b[1;33m\u001b[0m\u001b[1;33m\u001b[0m\u001b[0m\n\u001b[0m\u001b[0;32m   5288\u001b[0m             \u001b[0mindexer\u001b[0m \u001b[1;33m=\u001b[0m \u001b[0mindexer\u001b[0m\u001b[1;33m[\u001b[0m\u001b[1;33m~\u001b[0m\u001b[0mmask\u001b[0m\u001b[1;33m]\u001b[0m\u001b[1;33m\u001b[0m\u001b[1;33m\u001b[0m\u001b[0m\n\u001b[0;32m   5289\u001b[0m         \u001b[1;32mreturn\u001b[0m \u001b[0mself\u001b[0m\u001b[1;33m.\u001b[0m\u001b[0mdelete\u001b[0m\u001b[1;33m(\u001b[0m\u001b[0mindexer\u001b[0m\u001b[1;33m)\u001b[0m\u001b[1;33m\u001b[0m\u001b[1;33m\u001b[0m\u001b[0m\n",
      "\u001b[1;31mKeyError\u001b[0m: \"['affiliation'] not found in axis\""
     ]
    }
   ],
   "source": [
    "df.drop(['affiliation'], axis=0, inplace=True)"
   ]
  },
  {
   "cell_type": "code",
   "execution_count": null,
   "id": "ongoing-tournament",
   "metadata": {},
   "outputs": [],
   "source": []
  },
  {
   "cell_type": "code",
   "execution_count": null,
   "id": "successful-tradition",
   "metadata": {},
   "outputs": [],
   "source": []
  }
 ],
 "metadata": {
  "kernelspec": {
   "display_name": "Python 3",
   "language": "python",
   "name": "python3"
  },
  "language_info": {
   "codemirror_mode": {
    "name": "ipython",
    "version": 3
   },
   "file_extension": ".py",
   "mimetype": "text/x-python",
   "name": "python",
   "nbconvert_exporter": "python",
   "pygments_lexer": "ipython3",
   "version": "3.6.8"
  }
 },
 "nbformat": 4,
 "nbformat_minor": 5
}
